{
  "nbformat": 4,
  "nbformat_minor": 0,
  "metadata": {
    "colab": {
      "name": "Face_Emotion_Recognition.ipynb",
      "provenance": [],
      "toc_visible": true,
      "authorship_tag": "ABX9TyMzV0YvKa3e9USWLqZQCUF2",
      "include_colab_link": true
    },
    "kernelspec": {
      "name": "python3",
      "display_name": "Python 3"
    },
    "language_info": {
      "name": "python"
    }
  },
  "cells": [
    {
      "cell_type": "markdown",
      "metadata": {
        "id": "view-in-github",
        "colab_type": "text"
      },
      "source": [
        "<a href=\"https://colab.research.google.com/github/PravinMuraliDharan/Data_Science_Capstone_Project/blob/Master/Face_Emotion_Recognition.ipynb\" target=\"_parent\"><img src=\"https://colab.research.google.com/assets/colab-badge.svg\" alt=\"Open In Colab\"/></a>"
      ]
    },
    {
      "cell_type": "markdown",
      "metadata": {
        "id": "fyNxtW9NlHBR"
      },
      "source": [
        "- [Premise](#1)\n",
        "- [Problem Statement](#2)\n",
        "- [Proposed Solution](#3)"
      ]
    },
    {
      "cell_type": "markdown",
      "metadata": {
        "id": "nOV4BbC_kygU"
      },
      "source": [
        "<a name='1'></a>\n",
        "# **Premise** #\n",
        "\n",
        "---\n",
        "> * <b>The Indian education landscape has been undergoing rapid changes for the past 10 years owing to\n",
        "the advancement of web-based learning services, specifically, eLearning platforms.\n",
        ">\n",
        "> * <b>Global E-learning is estimated to witness an 8X over the next 5 years to reach USD 2B in 2021. India\n",
        "is expected to grow with a CAGR of 44% crossing the 10M users mark in 2021. \n",
        ">\n",
        "> * <b>Although the market\n",
        "is growing on a rapid scale, there are major challenges associated with digital learning when\n",
        "compared with brick and mortar classrooms. One of many challenges is how to ensure quality\n",
        "learning for students. \n",
        ">\n",
        "> * <b>Digital platforms might overpower physical classrooms in terms of content\n",
        "quality but when it comes to understanding whether students are able to grasp the content in a live\n",
        "class scenario is yet an open-end challenge.\n",
        ">\n",
        "> * <b>In a physical classroom during a lecturing teacher can see the faces and assess the emotion of the\n",
        "class and tune their lecture accordingly, whether he is going fast or slow. He can identify students who\n",
        "need special attention. Digital classrooms are conducted via video telephony software program (ex-Zoom) where it’s not possible for medium scale class (25-50) to see all students and access the\n",
        "mood. \n",
        ">\n",
        "> * <b>Because of this drawback, students are not focusing on content due to lack of surveillance.\n",
        "While digital platforms have limitations in terms of physical surveillance but it comes with the power of\n",
        "data and machines which can work for you. It provides data in the form of video, audio, and texts\n",
        "which can be analysed using deep learning algorithms. \n",
        ">\n",
        "> * <b>Deep learning backed system not only solves\n",
        "the surveillance issue, but it also removes the human bias from the system, and all information is no\n",
        "longer in the teacher’s brain rather translated in numbers that can be analysed and tracked.\n"
      ]
    },
    {
      "cell_type": "markdown",
      "metadata": {
        "id": "cYfst3rAk8IC"
      },
      "source": [
        "<a name='2'></a>\n",
        "# <b> Problem Statement\n",
        "\n",
        "---\n",
        "\n",
        "> * <b> We will solve the above-mentioned challenge by applying deep learning algorithms to live video data.\n",
        "> * <b>The solution to this problem is by recognizing facial emotions.\n"
      ]
    },
    {
      "cell_type": "markdown",
      "metadata": {
        "id": "TAt6KdlulC9u"
      },
      "source": [
        "<a name='3'></a>\n",
        "# <b> Proposed Solution \n",
        "\n",
        "---\n",
        "\n",
        "> * This is a few shot learning live face emotion detection system.\n",
        "> * The model should be able to real-time\n",
        "identify the emotions of students in a live class."
      ]
    },
    {
      "cell_type": "code",
      "metadata": {
        "id": "DVGgUZrbWiR_"
      },
      "source": [
        ""
      ],
      "execution_count": null,
      "outputs": []
    }
  ]
}
